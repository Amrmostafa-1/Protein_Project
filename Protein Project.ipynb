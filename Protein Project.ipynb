{
 "cells": [
  {
   "cell_type": "code",
   "execution_count": 45,
   "id": "49b8a041",
   "metadata": {},
   "outputs": [],
   "source": [
    "import pandas as pd\n",
    "import numpy as np"
   ]
  },
  {
   "cell_type": "code",
   "execution_count": 46,
   "id": "d8264ebc",
   "metadata": {},
   "outputs": [
    {
     "name": "stderr",
     "output_type": "stream",
     "text": [
      "/var/folders/q2/_chm3qg94gz5l7r736h39n040000gn/T/ipykernel_37529/1288919342.py:3: DtypeWarning: Columns (22,29,33,35,37,38,39,40,43,44,47) have mixed types. Specify dtype option on import or set low_memory=False.\n",
      "  df_human = pd.read_table(\"uniprotkb_human.tsv\",delimiter='\\t')\n",
      "/var/folders/q2/_chm3qg94gz5l7r736h39n040000gn/T/ipykernel_37529/1288919342.py:4: DtypeWarning: Columns (22,29,33,35,37,38,39,40,41,43,44,47) have mixed types. Specify dtype option on import or set low_memory=False.\n",
      "  df_rat = pd.read_table(\"uniprotkb_rat.tsv\",delimiter='\\t')\n"
     ]
    }
   ],
   "source": [
    "# Get the tsv files as dataframe\n",
    "\n",
    "df_human = pd.read_table(\"uniprotkb_human.tsv\",delimiter='\\t')\n",
    "df_rat = pd.read_table(\"uniprotkb_rat.tsv\",delimiter='\\t')"
   ]
  },
  {
   "cell_type": "code",
   "execution_count": 47,
   "id": "8af62d87",
   "metadata": {},
   "outputs": [],
   "source": [
    "#df_human"
   ]
  },
  {
   "cell_type": "code",
   "execution_count": 48,
   "id": "4faad2d0",
   "metadata": {},
   "outputs": [
    {
     "data": {
      "text/plain": [
       "Entry                                 0.000000\n",
       "Entry Name                            0.000000\n",
       "Protein names                         0.000000\n",
       "Gene Names                            0.207699\n",
       "Organism                              0.000000\n",
       "Length                                0.000000\n",
       "Sequence                              0.000000\n",
       "Involvement in disease                1.000000\n",
       "Pharmaceutical use                    1.000000\n",
       "Mutagenesis                           1.000000\n",
       "Disruption phenotype                  1.000000\n",
       "Biotechnological use                  1.000000\n",
       "Allergenic Properties                 1.000000\n",
       "Gene Ontology (biological process)    0.619481\n",
       "Gene Ontology (cellular component)    0.543190\n",
       "Gene Ontology (GO)                    0.418790\n",
       "Gene Ontology (molecular function)    0.664311\n",
       "Absorption                            1.000000\n",
       "Catalytic activity                    0.920414\n",
       "Cofactor                              0.957372\n",
       "DNA binding                           0.992416\n",
       "EC number                             0.916147\n",
       "Activity regulation                   0.999621\n",
       "Function [CC]                         0.902409\n",
       "Kinetics                              1.000000\n",
       "Pathway                               0.979489\n",
       "pH dependence                         1.000000\n",
       "Redox potential                       1.000000\n",
       "Rhea ID                               0.927901\n",
       "Site                                  0.998347\n",
       "Temperature dependence                1.000000\n",
       "Binding site                          0.969777\n",
       "Chain                                 0.886020\n",
       "Cross-link                            0.999856\n",
       "Disulfide bond                        0.988864\n",
       "Glycosylation                         0.999413\n",
       "Peptide                               1.000000\n",
       "Modified residue                      0.998640\n",
       "Lipidation                            0.999893\n",
       "Initiator methionine                  0.999925\n",
       "Post-translational modification       0.998944\n",
       "Propeptide                            1.000000\n",
       "Signal peptide                        0.886063\n",
       "Transit peptide                       0.999968\n",
       "Topological domain                    0.999904\n",
       "Transmembrane                         0.792610\n",
       "Subcellular location [CC]             0.761481\n",
       "Intramembrane                         0.999968\n",
       "dtype: float64"
      ]
     },
     "execution_count": 48,
     "metadata": {},
     "output_type": "execute_result"
    }
   ],
   "source": [
    "df_human.isna().sum()/len(df_human)"
   ]
  },
  {
   "cell_type": "markdown",
   "id": "db2dd439",
   "metadata": {},
   "source": [
    "### All the steps done on the Human dataset will be repeated on the rat dataset (as the human features might be used later)"
   ]
  },
  {
   "cell_type": "code",
   "execution_count": 49,
   "id": "83bb29bf",
   "metadata": {},
   "outputs": [],
   "source": [
    "# remove all the empty columns and columns with mostly NaN\n",
    "df_human = df_human.drop(columns=['Entry','Entry Name','Involvement in disease',\n",
    "       'Pharmaceutical use','Mutagenesis','Disruption phenotype','Biotechnological use',\n",
    "       'Allergenic Properties','Absorption','Kinetics','pH dependence','Redox potential',\n",
    "       'Temperature dependence','Peptide','Propeptide','Catalytic activity', 'Cofactor',\n",
    "       'DNA binding', 'EC number', 'Activity regulation', 'Function [CC]',\n",
    "       'Pathway', 'Rhea ID', 'Site', 'Binding site', 'Chain', 'Cross-link',\n",
    "       'Disulfide bond', 'Glycosylation', 'Modified residue', 'Lipidation',\n",
    "       'Initiator methionine', 'Post-translational modification',\n",
    "       'Signal peptide', 'Transit peptide', 'Topological domain','Transmembrane','Intramembrane'])\n",
    "df_rat = df_rat.drop(columns=['Entry','Entry Name','Involvement in disease',\n",
    "       'Pharmaceutical use','Mutagenesis','Disruption phenotype','Biotechnological use',\n",
    "       'Allergenic Properties','Absorption','Kinetics','pH dependence','Redox potential',\n",
    "       'Temperature dependence','Peptide','Propeptide','Catalytic activity', 'Cofactor',\n",
    "       'DNA binding', 'EC number', 'Activity regulation', 'Function [CC]',\n",
    "       'Pathway', 'Rhea ID', 'Site', 'Binding site', 'Chain', 'Cross-link',\n",
    "       'Disulfide bond', 'Glycosylation', 'Modified residue', 'Lipidation',\n",
    "       'Initiator methionine', 'Post-translational modification',\n",
    "       'Signal peptide', 'Transit peptide', 'Topological domain','Transmembrane','Intramembrane'])"
   ]
  },
  {
   "cell_type": "code",
   "execution_count": 50,
   "id": "c43b9601",
   "metadata": {},
   "outputs": [],
   "source": [
    "#df_human['Gene Ontology (biological process)'].value_counts(dropna=False)"
   ]
  },
  {
   "cell_type": "code",
   "execution_count": 51,
   "id": "c5c9e5e7",
   "metadata": {},
   "outputs": [],
   "source": [
    "# Decided to keep only the first part of the Gene Ontology columns (only the part before the first [GO])\n",
    "\n",
    "# A regex pattern that captures everything until the first '[GO:'\n",
    "\n",
    "df_human['Gene Ontology (biological process)'] = df_human['Gene Ontology (biological process)'].str.extract(r'^(.*?)(?=\\[GO:)')\n",
    "df_human['Gene Ontology (cellular component)'] = df_human['Gene Ontology (cellular component)'].str.extract(r'^(.*?)(?=\\[GO:)')\n",
    "df_human['Gene Ontology (GO)'] = df_human['Gene Ontology (GO)'].str.extract(r'^(.*?)(?=\\[GO:)')\n",
    "df_human['Gene Ontology (molecular function)'] = df_human['Gene Ontology (molecular function)'].str.extract(r'^(.*?)(?=\\[GO:)')"
   ]
  },
  {
   "cell_type": "code",
   "execution_count": 52,
   "id": "7eb3fb15",
   "metadata": {},
   "outputs": [],
   "source": [
    "df_rat['Gene Ontology (biological process)'] = df_rat['Gene Ontology (biological process)'].str.extract(r'^(.*?)(?=\\[GO:)')\n",
    "df_rat['Gene Ontology (cellular component)'] = df_rat['Gene Ontology (cellular component)'].str.extract(r'^(.*?)(?=\\[GO:)')\n",
    "df_rat['Gene Ontology (GO)'] = df_rat['Gene Ontology (GO)'].str.extract(r'^(.*?)(?=\\[GO:)')\n",
    "df_rat['Gene Ontology (molecular function)'] = df_rat['Gene Ontology (molecular function)'].str.extract(r'^(.*?)(?=\\[GO:)')"
   ]
  },
  {
   "cell_type": "code",
   "execution_count": 53,
   "id": "4bc3dcbe",
   "metadata": {},
   "outputs": [],
   "source": [
    "#df_human['Subcellular location [CC]'].value_counts(dropna=False)"
   ]
  },
  {
   "cell_type": "code",
   "execution_count": 54,
   "id": "7e21c16c",
   "metadata": {},
   "outputs": [],
   "source": [
    "# Decided to keep the subcelluar, could be used later for specifically predicting specific proteins\n",
    "\n",
    "# A regex pattern that captures everything between the SUBCELLULAR LOCATION:  and the first {ECO:\n",
    "\n",
    "df_human['Subcellular location [CC]'] = df_human['Subcellular location [CC]'].str.extract(r'(?<=SUBCELLULAR LOCATION: )(.*?)(?=\\s*{ECO:)')"
   ]
  },
  {
   "cell_type": "code",
   "execution_count": 55,
   "id": "fec8e0ab",
   "metadata": {},
   "outputs": [],
   "source": [
    "df_rat['Subcellular location [CC]'] = df_rat['Subcellular location [CC]'].str.extract(r'(?<=SUBCELLULAR LOCATION: )(.*?)(?=\\s*{ECO:)')"
   ]
  },
  {
   "cell_type": "code",
   "execution_count": 56,
   "id": "13c7b46e",
   "metadata": {},
   "outputs": [
    {
     "name": "stdout",
     "output_type": "stream",
     "text": [
      "Human Protein sequences over 500 length 23884\n",
      "Rat Protein sequences over 500 length 25999\n"
     ]
    }
   ],
   "source": [
    "print('Human Protein sequences over 500 length', len(df_human[df_human['Length']>500]))\n",
    "print('Rat Protein sequences over 500 length', len(df_rat[df_rat['Length']>500]))"
   ]
  },
  {
   "cell_type": "code",
   "execution_count": 57,
   "id": "6fa61ab8",
   "metadata": {},
   "outputs": [],
   "source": [
    "# Decided to drop all the sequences that are above 500 aa in length (currently for the ease of modelling)\n",
    "# Then changed to 100 as the code wasn't running\n",
    "\n",
    "df_human = df_human[df_human['Length']<100]\n",
    "df_rat = df_rat[df_rat['Length']<100]"
   ]
  },
  {
   "cell_type": "code",
   "execution_count": 58,
   "id": "baf68bbf",
   "metadata": {},
   "outputs": [
    {
     "name": "stdout",
     "output_type": "stream",
     "text": [
      "(163564, 10)\n",
      "(58777, 10)\n"
     ]
    }
   ],
   "source": [
    "print(df_human.shape)\n",
    "print(df_rat.shape)"
   ]
  },
  {
   "cell_type": "code",
   "execution_count": 59,
   "id": "b833bec7",
   "metadata": {},
   "outputs": [
    {
     "data": {
      "text/plain": [
       "Protein names                         0.000000\n",
       "Gene Names                            0.201811\n",
       "Organism                              0.000000\n",
       "Length                                0.000000\n",
       "Sequence                              0.000000\n",
       "Gene Ontology (biological process)    0.650149\n",
       "Gene Ontology (cellular component)    0.573837\n",
       "Gene Ontology (GO)                    0.459288\n",
       "Gene Ontology (molecular function)    0.712730\n",
       "Subcellular location [CC]             0.787196\n",
       "dtype: float64"
      ]
     },
     "execution_count": 59,
     "metadata": {},
     "output_type": "execute_result"
    }
   ],
   "source": [
    "df_human.isna().sum()/len(df_human)"
   ]
  },
  {
   "cell_type": "code",
   "execution_count": 60,
   "id": "930a00db",
   "metadata": {},
   "outputs": [
    {
     "data": {
      "text/plain": [
       "Protein names                         0.000000\n",
       "Gene Names                            0.009140\n",
       "Organism                              0.000000\n",
       "Length                                0.000000\n",
       "Sequence                              0.000000\n",
       "Gene Ontology (biological process)    0.243770\n",
       "Gene Ontology (cellular component)    0.229989\n",
       "Gene Ontology (GO)                    0.195978\n",
       "Gene Ontology (molecular function)    0.233401\n",
       "Subcellular location [CC]             0.258841\n",
       "dtype: float64"
      ]
     },
     "execution_count": 60,
     "metadata": {},
     "output_type": "execute_result"
    }
   ],
   "source": [
    "df_rat.isna().sum()/len(df_human)"
   ]
  },
  {
   "cell_type": "code",
   "execution_count": 61,
   "id": "d214d4e4",
   "metadata": {},
   "outputs": [],
   "source": [
    "# Fill all the NaN with unknown\n",
    "df_human = df_human.fillna('Unknown')\n",
    "df_rat = df_rat.fillna('Unknown')"
   ]
  },
  {
   "cell_type": "code",
   "execution_count": 62,
   "id": "a1cae531",
   "metadata": {},
   "outputs": [
    {
     "data": {
      "text/html": [
       "<div>\n",
       "<style scoped>\n",
       "    .dataframe tbody tr th:only-of-type {\n",
       "        vertical-align: middle;\n",
       "    }\n",
       "\n",
       "    .dataframe tbody tr th {\n",
       "        vertical-align: top;\n",
       "    }\n",
       "\n",
       "    .dataframe thead th {\n",
       "        text-align: right;\n",
       "    }\n",
       "</style>\n",
       "<table border=\"1\" class=\"dataframe\">\n",
       "  <thead>\n",
       "    <tr style=\"text-align: right;\">\n",
       "      <th></th>\n",
       "      <th>count</th>\n",
       "      <th>mean</th>\n",
       "      <th>std</th>\n",
       "      <th>min</th>\n",
       "      <th>25%</th>\n",
       "      <th>50%</th>\n",
       "      <th>75%</th>\n",
       "      <th>max</th>\n",
       "    </tr>\n",
       "  </thead>\n",
       "  <tbody>\n",
       "    <tr>\n",
       "      <th>Length</th>\n",
       "      <td>163564.0</td>\n",
       "      <td>187.356111</td>\n",
       "      <td>113.216307</td>\n",
       "      <td>7.0</td>\n",
       "      <td>104.0</td>\n",
       "      <td>177.0</td>\n",
       "      <td>258.0</td>\n",
       "      <td>499.0</td>\n",
       "    </tr>\n",
       "  </tbody>\n",
       "</table>\n",
       "</div>"
      ],
      "text/plain": [
       "           count        mean         std  min    25%    50%    75%    max\n",
       "Length  163564.0  187.356111  113.216307  7.0  104.0  177.0  258.0  499.0"
      ]
     },
     "execution_count": 62,
     "metadata": {},
     "output_type": "execute_result"
    }
   ],
   "source": [
    "df_human.describe().T"
   ]
  },
  {
   "cell_type": "code",
   "execution_count": 63,
   "id": "9a352d8c",
   "metadata": {},
   "outputs": [
    {
     "data": {
      "text/html": [
       "<div>\n",
       "<style scoped>\n",
       "    .dataframe tbody tr th:only-of-type {\n",
       "        vertical-align: middle;\n",
       "    }\n",
       "\n",
       "    .dataframe tbody tr th {\n",
       "        vertical-align: top;\n",
       "    }\n",
       "\n",
       "    .dataframe thead th {\n",
       "        text-align: right;\n",
       "    }\n",
       "</style>\n",
       "<table border=\"1\" class=\"dataframe\">\n",
       "  <thead>\n",
       "    <tr style=\"text-align: right;\">\n",
       "      <th></th>\n",
       "      <th>count</th>\n",
       "      <th>mean</th>\n",
       "      <th>std</th>\n",
       "      <th>min</th>\n",
       "      <th>25%</th>\n",
       "      <th>50%</th>\n",
       "      <th>75%</th>\n",
       "      <th>max</th>\n",
       "    </tr>\n",
       "  </thead>\n",
       "  <tbody>\n",
       "    <tr>\n",
       "      <th>Length</th>\n",
       "      <td>58777.0</td>\n",
       "      <td>228.405073</td>\n",
       "      <td>134.996033</td>\n",
       "      <td>1.0</td>\n",
       "      <td>110.0</td>\n",
       "      <td>217.0</td>\n",
       "      <td>334.0</td>\n",
       "      <td>499.0</td>\n",
       "    </tr>\n",
       "  </tbody>\n",
       "</table>\n",
       "</div>"
      ],
      "text/plain": [
       "          count        mean         std  min    25%    50%    75%    max\n",
       "Length  58777.0  228.405073  134.996033  1.0  110.0  217.0  334.0  499.0"
      ]
     },
     "execution_count": 63,
     "metadata": {},
     "output_type": "execute_result"
    }
   ],
   "source": [
    "df_rat.describe().T"
   ]
  },
  {
   "cell_type": "code",
   "execution_count": 64,
   "id": "59f89726",
   "metadata": {},
   "outputs": [],
   "source": [
    "# Make new dfs with only the Sequence and Organism columns to start the model.\n",
    "\n",
    "df_human_seq = df_human[['Sequence','Organism']]\n",
    "df_rat_seq = df_rat[['Sequence','Organism']]"
   ]
  },
  {
   "cell_type": "code",
   "execution_count": 65,
   "id": "ffc17da8",
   "metadata": {},
   "outputs": [
    {
     "name": "stderr",
     "output_type": "stream",
     "text": [
      "/var/folders/q2/_chm3qg94gz5l7r736h39n040000gn/T/ipykernel_37529/118057391.py:3: SettingWithCopyWarning: \n",
      "A value is trying to be set on a copy of a slice from a DataFrame.\n",
      "Try using .loc[row_indexer,col_indexer] = value instead\n",
      "\n",
      "See the caveats in the documentation: https://pandas.pydata.org/pandas-docs/stable/user_guide/indexing.html#returning-a-view-versus-a-copy\n",
      "  df_human_seq['Organism'] = df_human_seq['Organism'].replace(['Homo sapiens (Human)'], 'Human').astype('object')\n",
      "/var/folders/q2/_chm3qg94gz5l7r736h39n040000gn/T/ipykernel_37529/118057391.py:4: SettingWithCopyWarning: \n",
      "A value is trying to be set on a copy of a slice from a DataFrame.\n",
      "Try using .loc[row_indexer,col_indexer] = value instead\n",
      "\n",
      "See the caveats in the documentation: https://pandas.pydata.org/pandas-docs/stable/user_guide/indexing.html#returning-a-view-versus-a-copy\n",
      "  df_rat_seq['Organism'] = df_rat_seq['Organism'].replace(['Rattus norvegicus (Rat)'], 'Rat').astype('object')\n"
     ]
    }
   ],
   "source": [
    "# To make it easier to read change the Organism to Human or Rat respectivelly\n",
    "\n",
    "df_human_seq['Organism'] = df_human_seq['Organism'].replace(['Homo sapiens (Human)'], 'Human').astype('object')\n",
    "df_rat_seq['Organism'] = df_rat_seq['Organism'].replace(['Rattus norvegicus (Rat)'], 'Rat').astype('object')"
   ]
  },
  {
   "cell_type": "code",
   "execution_count": 66,
   "id": "6507a722",
   "metadata": {},
   "outputs": [],
   "source": [
    "pd.set_option('display.max_colwidth', None)"
   ]
  },
  {
   "cell_type": "markdown",
   "id": "d8c4ba1b",
   "metadata": {},
   "source": [
    "### Concat both df by row to continue workin with the resulting df"
   ]
  },
  {
   "cell_type": "code",
   "execution_count": 67,
   "id": "d41330f5",
   "metadata": {},
   "outputs": [],
   "source": [
    "df_seq = pd.concat((df_human_seq, df_rat_seq), axis = 0).reset_index(drop=True)"
   ]
  },
  {
   "cell_type": "code",
   "execution_count": 68,
   "id": "5be47198",
   "metadata": {},
   "outputs": [],
   "source": [
    "#df_seq"
   ]
  },
  {
   "cell_type": "markdown",
   "id": "d495904e",
   "metadata": {},
   "source": [
    "#### Take a fraction of the sample as the models were not running"
   ]
  },
  {
   "cell_type": "code",
   "execution_count": 69,
   "id": "aa5361dd",
   "metadata": {},
   "outputs": [],
   "source": [
    "sample_df = df_seq.sample(frac=0.1)"
   ]
  },
  {
   "cell_type": "markdown",
   "id": "16b31ff3",
   "metadata": {},
   "source": [
    "## Tokenize the Protein Sequence"
   ]
  },
  {
   "cell_type": "code",
   "execution_count": 70,
   "id": "8a11d31f",
   "metadata": {},
   "outputs": [],
   "source": [
    "sample_df['Token_Sequence'] = sample_df['Sequence'].apply(list)"
   ]
  },
  {
   "cell_type": "code",
   "execution_count": 71,
   "id": "e516bcc9",
   "metadata": {},
   "outputs": [
    {
     "data": {
      "text/html": [
       "<div>\n",
       "<style scoped>\n",
       "    .dataframe tbody tr th:only-of-type {\n",
       "        vertical-align: middle;\n",
       "    }\n",
       "\n",
       "    .dataframe tbody tr th {\n",
       "        vertical-align: top;\n",
       "    }\n",
       "\n",
       "    .dataframe thead th {\n",
       "        text-align: right;\n",
       "    }\n",
       "</style>\n",
       "<table border=\"1\" class=\"dataframe\">\n",
       "  <thead>\n",
       "    <tr style=\"text-align: right;\">\n",
       "      <th></th>\n",
       "      <th>Sequence</th>\n",
       "      <th>Organism</th>\n",
       "      <th>Token_Sequence</th>\n",
       "    </tr>\n",
       "  </thead>\n",
       "  <tbody>\n",
       "    <tr>\n",
       "      <th>134613</th>\n",
       "      <td>SHSMRYFSTSVSRPGSGEPRFIAVGYVDDTQFVRFDSDAASQRMEPRVPWIEQERPEYWDQETRNVKAHSQTDRENLGTLRGYYNQSEAGSHTIQIMYGCDVGSDGRFLRGYEQHAYDGKDYIALNEDLRSWTAADMAAQITQRKWEAARRAEQLRAYLEGTCVEWLRRYLENGKETLQRT</td>\n",
       "      <td>Human</td>\n",
       "      <td>[S, H, S, M, R, Y, F, S, T, S, V, S, R, P, G, S, G, E, P, R, F, I, A, V, G, Y, V, D, D, T, Q, F, V, R, F, D, S, D, A, A, S, Q, R, M, E, P, R, V, P, W, I, E, Q, E, R, P, E, Y, W, D, Q, E, T, R, N, V, K, A, H, S, Q, T, D, R, E, N, L, G, T, L, R, G, Y, Y, N, Q, S, E, A, G, S, H, T, I, Q, I, M, Y, G, C, ...]</td>\n",
       "    </tr>\n",
       "  </tbody>\n",
       "</table>\n",
       "</div>"
      ],
      "text/plain": [
       "                                                                                                                                                                                     Sequence  \\\n",
       "134613  SHSMRYFSTSVSRPGSGEPRFIAVGYVDDTQFVRFDSDAASQRMEPRVPWIEQERPEYWDQETRNVKAHSQTDRENLGTLRGYYNQSEAGSHTIQIMYGCDVGSDGRFLRGYEQHAYDGKDYIALNEDLRSWTAADMAAQITQRKWEAARRAEQLRAYLEGTCVEWLRRYLENGKETLQRT   \n",
       "\n",
       "       Organism  \\\n",
       "134613    Human   \n",
       "\n",
       "                                                                                                                                                                                                                                                                                                           Token_Sequence  \n",
       "134613  [S, H, S, M, R, Y, F, S, T, S, V, S, R, P, G, S, G, E, P, R, F, I, A, V, G, Y, V, D, D, T, Q, F, V, R, F, D, S, D, A, A, S, Q, R, M, E, P, R, V, P, W, I, E, Q, E, R, P, E, Y, W, D, Q, E, T, R, N, V, K, A, H, S, Q, T, D, R, E, N, L, G, T, L, R, G, Y, Y, N, Q, S, E, A, G, S, H, T, I, Q, I, M, Y, G, C, ...]  "
      ]
     },
     "execution_count": 71,
     "metadata": {},
     "output_type": "execute_result"
    }
   ],
   "source": [
    "sample_df.head(1)"
   ]
  },
  {
   "cell_type": "code",
   "execution_count": 72,
   "id": "4fdfee4e",
   "metadata": {},
   "outputs": [],
   "source": [
    "import tensorflow as tf\n",
    "from tensorflow.keras.preprocessing.text import Tokenizer\n",
    "from tensorflow.keras.models import Sequential\n",
    "from tensorflow.keras.layers import Embedding, LSTM, GlobalMaxPooling1D, Dense\n",
    "from sklearn.model_selection import train_test_split\n",
    "from tensorflow.keras.preprocessing.sequence import pad_sequences"
   ]
  },
  {
   "cell_type": "markdown",
   "id": "e5c4c64f",
   "metadata": {},
   "source": [
    "## RNN Model (LSTM) Classifier\n",
    "Predict wether a protein sequence is human or rat protein"
   ]
  },
  {
   "cell_type": "code",
   "execution_count": 73,
   "id": "4c3d321d",
   "metadata": {},
   "outputs": [],
   "source": [
    "# Convert sequences to integer tokens\n",
    "\n",
    "tokenizer = tf.keras.preprocessing.text.Tokenizer(char_level=True)\n",
    "tokenizer.fit_on_texts(sample_df['Token_Sequence'].apply(lambda x: ''.join(x)))\n",
    "X = tokenizer.texts_to_sequences(sample_df['Token_Sequence'].apply(lambda x: ''.join(x)))"
   ]
  },
  {
   "cell_type": "code",
   "execution_count": 74,
   "id": "7d189a18",
   "metadata": {},
   "outputs": [],
   "source": [
    "# Pad the sequences to have the same length\n",
    "X = pad_sequences(X, padding='post')"
   ]
  },
  {
   "cell_type": "code",
   "execution_count": 75,
   "id": "80ca5bc6",
   "metadata": {},
   "outputs": [],
   "source": [
    "# Convert 'Human' and 'Rat' to integers\n",
    "\n",
    "y = sample_df['Organism'].map({'Human': 0, 'Rat': 1}).values"
   ]
  },
  {
   "cell_type": "code",
   "execution_count": 76,
   "id": "9d119865",
   "metadata": {},
   "outputs": [],
   "source": [
    "X_train, X_test, y_train, y_test = train_test_split(X, y, test_size=0.2, random_state=42)"
   ]
  },
  {
   "cell_type": "code",
   "execution_count": 77,
   "id": "538bca50",
   "metadata": {},
   "outputs": [],
   "source": [
    "model = Sequential()\n",
    "model.add(Embedding(input_dim=len(tokenizer.word_index) + 1, output_dim=10))\n",
    "model.add(LSTM(50, return_sequences=True))\n",
    "model.add(GlobalMaxPooling1D())\n",
    "model.add(Dense(1, activation='sigmoid'))"
   ]
  },
  {
   "cell_type": "code",
   "execution_count": 78,
   "id": "fe39be10",
   "metadata": {},
   "outputs": [],
   "source": [
    "model.compile(optimizer='adam', loss='binary_crossentropy', metrics=['accuracy'])"
   ]
  },
  {
   "cell_type": "code",
   "execution_count": 79,
   "id": "c7c72363",
   "metadata": {},
   "outputs": [
    {
     "name": "stdout",
     "output_type": "stream",
     "text": [
      "Epoch 1/10\n",
      "556/556 [==============================] - 220s 382ms/step - loss: 0.5240 - accuracy: 0.7329 - val_loss: 0.4918 - val_accuracy: 0.7268\n",
      "Epoch 2/10\n",
      "556/556 [==============================] - 128s 229ms/step - loss: 0.4876 - accuracy: 0.7319 - val_loss: 0.4873 - val_accuracy: 0.7290\n",
      "Epoch 3/10\n",
      "556/556 [==============================] - 125s 225ms/step - loss: 0.4833 - accuracy: 0.7331 - val_loss: 0.4813 - val_accuracy: 0.7284\n",
      "Epoch 4/10\n",
      "556/556 [==============================] - 121s 218ms/step - loss: 0.4737 - accuracy: 0.7332 - val_loss: 0.4681 - val_accuracy: 0.7299\n",
      "Epoch 5/10\n",
      "556/556 [==============================] - 120s 216ms/step - loss: 0.4735 - accuracy: 0.7323 - val_loss: 0.4731 - val_accuracy: 0.7270\n",
      "Epoch 6/10\n",
      "556/556 [==============================] - 120s 216ms/step - loss: 0.4670 - accuracy: 0.7317 - val_loss: 0.4667 - val_accuracy: 0.7236\n",
      "Epoch 7/10\n",
      "556/556 [==============================] - 119s 214ms/step - loss: 0.4614 - accuracy: 0.7340 - val_loss: 0.4615 - val_accuracy: 0.7182\n",
      "Epoch 8/10\n",
      "556/556 [==============================] - 118s 213ms/step - loss: 0.4550 - accuracy: 0.7357 - val_loss: 0.4566 - val_accuracy: 0.7227\n",
      "Epoch 9/10\n",
      "556/556 [==============================] - 119s 214ms/step - loss: 0.4500 - accuracy: 0.7339 - val_loss: 0.4640 - val_accuracy: 0.7248\n",
      "Epoch 10/10\n",
      "556/556 [==============================] - 120s 216ms/step - loss: 0.4539 - accuracy: 0.7329 - val_loss: 0.4526 - val_accuracy: 0.7356\n"
     ]
    },
    {
     "data": {
      "text/plain": [
       "<keras.src.callbacks.History at 0x12be89310>"
      ]
     },
     "execution_count": 79,
     "metadata": {},
     "output_type": "execute_result"
    }
   ],
   "source": [
    "model.fit(X_train, y_train, validation_data=(X_test, y_test), epochs=10)"
   ]
  },
  {
   "cell_type": "code",
   "execution_count": 80,
   "id": "c913dfe5",
   "metadata": {
    "scrolled": true
   },
   "outputs": [
    {
     "name": "stdout",
     "output_type": "stream",
     "text": [
      "139/139 [==============================] - 9s 62ms/step - loss: 0.4526 - accuracy: 0.7356\n",
      "Test Loss: 0.4526\n",
      "Test Accuracy: 0.7356\n"
     ]
    }
   ],
   "source": [
    "# Evaluate the model on the test set\n",
    "loss, accuracy = model.evaluate(X_test, y_test)\n",
    "print(f\"Test Loss: {loss:.4f}\")\n",
    "print(f\"Test Accuracy: {accuracy:.4f}\")"
   ]
  },
  {
   "cell_type": "markdown",
   "id": "673f1ac4",
   "metadata": {},
   "source": [
    "- Could also optimize for recall or precision to improve the model depending on the critical outcome.\n",
    "- F1 score could be a good way to optmize the model, not natively supported has to be manually calculated."
   ]
  },
  {
   "cell_type": "code",
   "execution_count": 82,
   "id": "4e496f00",
   "metadata": {},
   "outputs": [
    {
     "data": {
      "image/png": "[encoded data removed]",
      "text/plain": [
       "<Figure size 300x300 with 2 Axes>"
      ]
     },
     "metadata": {},
     "output_type": "display_data"
    }
   ],
   "source": [
    "import seaborn as sns\n",
    "import matplotlib.pyplot as plt\n",
    "from sklearn.metrics import confusion_matrix\n",
    "\n",
    "matrix = confusion_matrix(y_test, predicted_labels)\n",
    "\n",
    "plt.figure(figsize=(3,3))\n",
    "sns.heatmap(matrix, annot=True, fmt=\"d\", cmap=\"Blues\")\n",
    "plt.xlabel('Predicted')\n",
    "plt.ylabel('True')\n",
    "plt.show()"
   ]
  },
  {
   "cell_type": "code",
   "execution_count": 81,
   "id": "0c8cb364",
   "metadata": {},
   "outputs": [
    {
     "name": "stdout",
     "output_type": "stream",
     "text": [
      "139/139 [==============================] - 8s 57ms/step\n",
      "      Actual  Predicted\n",
      "0          0          0\n",
      "1          0          0\n",
      "2          0          1\n",
      "3          0          0\n",
      "4          1          0\n",
      "...      ...        ...\n",
      "4442       1          0\n",
      "4443       0          1\n",
      "4444       1          1\n",
      "4445       0          0\n",
      "4446       1          0\n",
      "\n",
      "[4447 rows x 2 columns]\n"
     ]
    }
   ],
   "source": [
    "# Get the predictions for the test set\n",
    "predictions = model.predict(X_test)\n",
    "\n",
    "# Convert predictions to binary labels\n",
    "predicted_labels = [1 if p >= 0.5 else 0 for p in predictions]\n",
    "\n",
    "# Compare predicted labels with the actual labels\n",
    "comparison = pd.DataFrame({'Actual': y_test, 'Predicted': predicted_labels})\n",
    "print(comparison)"
   ]
  },
  {
   "cell_type": "markdown",
   "id": "8a91b8f6",
   "metadata": {},
   "source": [
    "## RNN Model (LSTM)\n",
    "Predict new protein sequences not seen in the data"
   ]
  },
  {
   "cell_type": "code",
   "execution_count": 38,
   "id": "195d8c85",
   "metadata": {},
   "outputs": [],
   "source": [
    "from tensorflow.keras.preprocessing.sequence import pad_sequences\n",
    "from tensorflow.keras.utils import to_categorical"
   ]
  },
  {
   "cell_type": "code",
   "execution_count": null,
   "id": "3cdf7f76",
   "metadata": {},
   "outputs": [],
   "source": [
    "tokenizer = tf.keras.preprocessing.text.Tokenizer(char_level=True)\n",
    "tokenizer.fit_on_texts(sample_df['Token_Sequence'].apply(lambda x: ''.join(x)))\n",
    "total_words = len(tokenizer.word_index) + 1\n",
    "\n",
    "# Create input sequences\n",
    "input_sequences = []\n",
    "for sequence in sample_df['Token_Sequence']:\n",
    "    token_sequence = tokenizer.texts_to_sequences([sequence])[0]\n",
    "    for i in range(1, len(token_sequence)):\n",
    "        n_gram_sequence = token_sequence[:i+1]\n",
    "        input_sequences.append(n_gram_sequence)\n",
    "\n",
    "# Pad sequences and split input and output\n",
    "input_sequences = pad_sequences(input_sequences)\n",
    "X, y = input_sequences[:,:-1],input_sequences[:,-1]\n",
    "y = to_categorical(y, num_classes=total_words)\n"
   ]
  },
  {
   "cell_type": "code",
   "execution_count": null,
   "id": "a105141b",
   "metadata": {},
   "outputs": [],
   "source": [
    "model = Sequential()\n",
    "model.add(Embedding(input_dim=total_words, output_dim=50, input_length=X.shape[1]))\n",
    "model.add(LSTM(100, return_sequences=True))\n",
    "model.add(LSTM(100))\n",
    "model.add(Dense(total_words, activation='softmax'))\n",
    "\n",
    "model.compile(optimizer='adam', loss='categorical_crossentropy', metrics=['accuracy'])\n",
    "model.fit(X, y, epochs=10, verbose=1)\n"
   ]
  },
  {
   "cell_type": "code",
   "execution_count": null,
   "id": "a5fc0e2e",
   "metadata": {},
   "outputs": [],
   "source": [
    "def generate_sequence(model, tokenizer, init_seq, max_length):\n",
    "    new_sequence = init_seq\n",
    "    for _ in range(max_length):\n",
    "        token_sequence = tokenizer.texts_to_sequences([new_sequence])[0]\n",
    "        token_sequence = pad_sequences([token_sequence], maxlen=X.shape[1], padding='pre')\n",
    "        predicted_token = np.argmax(model.predict(token_sequence), axis=-1)\n",
    "        predicted_amino_acid = tokenizer.index_word[predicted_token[0]]\n",
    "        new_sequence += predicted_amino_acid\n",
    "    return new_sequence\n",
    "\n",
    "# Generate a new sequence of length 50\n",
    "generated_sequence = generate_sequence(model, tokenizer, \"MKT\", 50).upper()\n",
    "\n",
    "# Print the generated sequence\n",
    "print(generated_sequence)"
   ]
  },
  {
   "cell_type": "markdown",
   "id": "b098b696",
   "metadata": {},
   "source": [
    "## API for PDB"
   ]
  },
  {
   "cell_type": "markdown",
   "id": "78141710",
   "metadata": {},
   "source": [
    "Use PDB API to check if the generated protein sequence excists in nature."
   ]
  },
  {
   "cell_type": "code",
   "execution_count": 101,
   "id": "aea7feda",
   "metadata": {},
   "outputs": [
    {
     "name": "stdout",
     "output_type": "stream",
     "text": [
      "200\n",
      "[{'identifier': '7T2A_2', 'score': 1.0}, {'identifier': '7T2B_2', 'score': 1.0}, {'identifier': '7T2C_4', 'score': 1.0}, {'identifier': '7T2D_2', 'score': 1.0}, {'identifier': '7T6I_2', 'score': 0.3333333333333333}, {'identifier': '7ZAK_2', 'score': 0.3333333333333333}, {'identifier': '7ZFR_2', 'score': 0.3333333333333333}, {'identifier': '3LQZ_2', 'score': 0.16666666666666666}, {'identifier': '4P4K_2', 'score': 0.16666666666666666}, {'identifier': '4P4R_2', 'score': 0.16666666666666666}]\n"
     ]
    }
   ],
   "source": [
    "import requests\n",
    "import json\n",
    "\n",
    "# Your generated_sequence from before\n",
    "# generated_sequence = ...\n",
    "\n",
    "# Construct the query\n",
    "query_json = {\n",
    "  \"query\": {\n",
    "    \"type\": \"terminal\",\n",
    "    \"service\": \"sequence\",\n",
    "    \"parameters\": {\n",
    "      \"evalue_cutoff\": 1,\n",
    "      \"identity_cutoff\": 0.9,\n",
    "      \"sequence_type\": \"protein\",\n",
    "      \"value\": generated_sequence\n",
    "    }\n",
    "  },\n",
    "  \"request_options\": {\n",
    "    \"scoring_strategy\": \"sequence\"\n",
    "  },\n",
    "  \"return_type\": \"polymer_entity\"\n",
    "}\n",
    "\n",
    "# Define the endpoint\n",
    "url = \"https://search.rcsb.org/rcsbsearch/v2/query\"\n",
    "\n",
    "# Make the API request\n",
    "response = requests.post(url, json=query_json)\n",
    "\n",
    "# Check if the request was successful\n",
    "print(response.status_code)\n",
    "match = response.json()\n",
    "print(match['result_set'])\n"
   ]
  },
  {
   "cell_type": "markdown",
   "id": "b16689db",
   "metadata": {},
   "source": [
    "This gives all the proteins that have this sequence in nature.\n",
    "- Score of 1 means it the generated sequence matches exactly a protein or part of a protein.\n",
    "- Scores less than 1 means that the bulk of the sequences matches but there are mismatches."
   ]
  },
  {
   "cell_type": "code",
   "execution_count": 102,
   "id": "e934a6c9",
   "metadata": {
    "scrolled": false
   },
   "outputs": [
    {
     "data": {
      "text/html": [
       "<div>\n",
       "<style scoped>\n",
       "    .dataframe tbody tr th:only-of-type {\n",
       "        vertical-align: middle;\n",
       "    }\n",
       "\n",
       "    .dataframe tbody tr th {\n",
       "        vertical-align: top;\n",
       "    }\n",
       "\n",
       "    .dataframe thead th {\n",
       "        text-align: right;\n",
       "    }\n",
       "</style>\n",
       "<table border=\"1\" class=\"dataframe\">\n",
       "  <thead>\n",
       "    <tr style=\"text-align: right;\">\n",
       "      <th></th>\n",
       "      <th>identifier</th>\n",
       "      <th>score</th>\n",
       "    </tr>\n",
       "  </thead>\n",
       "  <tbody>\n",
       "    <tr>\n",
       "      <th>0</th>\n",
       "      <td>7T2A_2</td>\n",
       "      <td>1.000000</td>\n",
       "    </tr>\n",
       "    <tr>\n",
       "      <th>1</th>\n",
       "      <td>7T2B_2</td>\n",
       "      <td>1.000000</td>\n",
       "    </tr>\n",
       "    <tr>\n",
       "      <th>2</th>\n",
       "      <td>7T2C_4</td>\n",
       "      <td>1.000000</td>\n",
       "    </tr>\n",
       "    <tr>\n",
       "      <th>3</th>\n",
       "      <td>7T2D_2</td>\n",
       "      <td>1.000000</td>\n",
       "    </tr>\n",
       "    <tr>\n",
       "      <th>4</th>\n",
       "      <td>7T6I_2</td>\n",
       "      <td>0.333333</td>\n",
       "    </tr>\n",
       "    <tr>\n",
       "      <th>5</th>\n",
       "      <td>7ZAK_2</td>\n",
       "      <td>0.333333</td>\n",
       "    </tr>\n",
       "    <tr>\n",
       "      <th>6</th>\n",
       "      <td>7ZFR_2</td>\n",
       "      <td>0.333333</td>\n",
       "    </tr>\n",
       "    <tr>\n",
       "      <th>7</th>\n",
       "      <td>3LQZ_2</td>\n",
       "      <td>0.166667</td>\n",
       "    </tr>\n",
       "    <tr>\n",
       "      <th>8</th>\n",
       "      <td>4P4K_2</td>\n",
       "      <td>0.166667</td>\n",
       "    </tr>\n",
       "    <tr>\n",
       "      <th>9</th>\n",
       "      <td>4P4R_2</td>\n",
       "      <td>0.166667</td>\n",
       "    </tr>\n",
       "  </tbody>\n",
       "</table>\n",
       "</div>"
      ],
      "text/plain": [
       "  identifier     score\n",
       "0     7T2A_2  1.000000\n",
       "1     7T2B_2  1.000000\n",
       "2     7T2C_4  1.000000\n",
       "3     7T2D_2  1.000000\n",
       "4     7T6I_2  0.333333\n",
       "5     7ZAK_2  0.333333\n",
       "6     7ZFR_2  0.333333\n",
       "7     3LQZ_2  0.166667\n",
       "8     4P4K_2  0.166667\n",
       "9     4P4R_2  0.166667"
      ]
     },
     "execution_count": 102,
     "metadata": {},
     "output_type": "execute_result"
    }
   ],
   "source": [
    "match_df = pd.DataFrame(match['result_set'])\n",
    "match_df"
   ]
  },
  {
   "cell_type": "code",
   "execution_count": 103,
   "id": "f532fa24",
   "metadata": {},
   "outputs": [],
   "source": [
    "match_df.to_csv('Protein match.csv')"
   ]
  },
  {
   "cell_type": "markdown",
   "id": "19e87506",
   "metadata": {},
   "source": [
    "This could used as metric to evaluate the model, as it is trained only a portion of all available proteins.\\\n",
    "If it produces proteins that are available in nature consistently, it could be an indication that the model understands the relationship of protein sequences."
   ]
  },
  {
   "cell_type": "markdown",
   "id": "aad4e608",
   "metadata": {},
   "source": [
    "## Hypothesis Testing"
   ]
  },
  {
   "cell_type": "markdown",
   "id": "85cc6d37",
   "metadata": {},
   "source": [
    "(H0): The mean length of human sequences is equal to the mean length of rat sequences.\n",
    "\n",
    " \n",
    "(H1): The mean length of human sequences is not equal to the mean length of rat sequences.\n"
   ]
  },
  {
   "cell_type": "code",
   "execution_count": 26,
   "id": "426ad289",
   "metadata": {},
   "outputs": [],
   "source": [
    "import scipy.stats as st"
   ]
  },
  {
   "cell_type": "code",
   "execution_count": 29,
   "id": "b893f7de",
   "metadata": {},
   "outputs": [
    {
     "data": {
      "text/plain": [
       "Ttest_indResult(statistic=-65.86462497550019, pvalue=0.0)"
      ]
     },
     "execution_count": 29,
     "metadata": {},
     "output_type": "execute_result"
    }
   ],
   "source": [
    "st.ttest_ind(df_human['Length'], df_rat['Length'], equal_var=False)"
   ]
  },
  {
   "cell_type": "markdown",
   "id": "32b740fc",
   "metadata": {},
   "source": [
    "- Since the pvalue is 0 (Probably rounded to 0) this means we reject the H0, which is that the mean length of human sequences is equal to the mean length of rat sequences.\n",
    "- This shows that there is a statistically significant difference between the mean length of human and rat sequences, and since the statistic is below 0 this means that the mean length of sequences for humans is shorter than that for rats"
   ]
  },
  {
   "cell_type": "code",
   "execution_count": null,
   "id": "b36e3e83",
   "metadata": {},
   "outputs": [],
   "source": []
  }
 ],
 "metadata": {
  "kernelspec": {
   "display_name": "Python 3 (ipykernel)",
   "language": "python",
   "name": "python3"
  },
  "language_info": {
   "codemirror_mode": {
    "name": "ipython",
    "version": 3
   },
   "file_extension": ".py",
   "mimetype": "text/x-python",
   "name": "python",
   "nbconvert_exporter": "python",
   "pygments_lexer": "ipython3",
   "version": "3.11.3"
  }
 },
 "nbformat": 4,
 "nbformat_minor": 5
}
