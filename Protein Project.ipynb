{
 "cells": [
  {
   "cell_type": "code",
   "execution_count": 1,
   "id": "fd54e04c",
   "metadata": {},
   "outputs": [],
   "source": [
    "import pandas as pd\n",
    "import numpy as np"
   ]
  },
  {
   "cell_type": "code",
   "execution_count": 2,
   "id": "ff17a6a5",
   "metadata": {},
   "outputs": [
    {
     "name": "stderr",
     "output_type": "stream",
     "text": [
      "/var/folders/q2/_chm3qg94gz5l7r736h39n040000gn/T/ipykernel_32952/1288919342.py:3: DtypeWarning: Columns (22,29,33,35,37,38,39,40,43,44,47) have mixed types. Specify dtype option on import or set low_memory=False.\n",
      "  df_human = pd.read_table(\"uniprotkb_human.tsv\",delimiter='\\t')\n",
      "/var/folders/q2/_chm3qg94gz5l7r736h39n040000gn/T/ipykernel_32952/1288919342.py:4: DtypeWarning: Columns (22,29,33,35,37,38,39,40,41,43,44,47) have mixed types. Specify dtype option on import or set low_memory=False.\n",
      "  df_rat = pd.read_table(\"uniprotkb_rat.tsv\",delimiter='\\t')\n"
     ]
    }
   ],
   "source": [
    "# Get the tsv files as dataframe\n",
    "\n",
    "df_human = pd.read_table(\"uniprotkb_human.tsv\",delimiter='\\t')\n",
    "df_rat = pd.read_table(\"uniprotkb_rat.tsv\",delimiter='\\t')"
   ]
  },
  {
   "cell_type": "code",
   "execution_count": 3,
   "id": "283102c7",
   "metadata": {},
   "outputs": [],
   "source": [
    "#df_human"
   ]
  },
  {
   "cell_type": "code",
   "execution_count": 4,
   "id": "068a6f46",
   "metadata": {},
   "outputs": [
    {
     "data": {
      "text/plain": [
       "Entry                                 0.000000\n",
       "Entry Name                            0.000000\n",
       "Protein names                         0.000000\n",
       "Gene Names                            0.207699\n",
       "Organism                              0.000000\n",
       "Length                                0.000000\n",
       "Sequence                              0.000000\n",
       "Involvement in disease                1.000000\n",
       "Pharmaceutical use                    1.000000\n",
       "Mutagenesis                           1.000000\n",
       "Disruption phenotype                  1.000000\n",
       "Biotechnological use                  1.000000\n",
       "Allergenic Properties                 1.000000\n",
       "Gene Ontology (biological process)    0.619481\n",
       "Gene Ontology (cellular component)    0.543190\n",
       "Gene Ontology (GO)                    0.418790\n",
       "Gene Ontology (molecular function)    0.664311\n",
       "Absorption                            1.000000\n",
       "Catalytic activity                    0.920414\n",
       "Cofactor                              0.957372\n",
       "DNA binding                           0.992416\n",
       "EC number                             0.916147\n",
       "Activity regulation                   0.999621\n",
       "Function [CC]                         0.902409\n",
       "Kinetics                              1.000000\n",
       "Pathway                               0.979489\n",
       "pH dependence                         1.000000\n",
       "Redox potential                       1.000000\n",
       "Rhea ID                               0.927901\n",
       "Site                                  0.998347\n",
       "Temperature dependence                1.000000\n",
       "Binding site                          0.969777\n",
       "Chain                                 0.886020\n",
       "Cross-link                            0.999856\n",
       "Disulfide bond                        0.988864\n",
       "Glycosylation                         0.999413\n",
       "Peptide                               1.000000\n",
       "Modified residue                      0.998640\n",
       "Lipidation                            0.999893\n",
       "Initiator methionine                  0.999925\n",
       "Post-translational modification       0.998944\n",
       "Propeptide                            1.000000\n",
       "Signal peptide                        0.886063\n",
       "Transit peptide                       0.999968\n",
       "Topological domain                    0.999904\n",
       "Transmembrane                         0.792610\n",
       "Subcellular location [CC]             0.761481\n",
       "Intramembrane                         0.999968\n",
       "dtype: float64"
      ]
     },
     "execution_count": 4,
     "metadata": {},
     "output_type": "execute_result"
    }
   ],
   "source": [
    "df_human.isna().sum()/len(df_human)"
   ]
  },
  {
   "cell_type": "markdown",
   "id": "4df3b5c7",
   "metadata": {},
   "source": [
    "### All the steps done on the Human dataset will be repeated on the rat dataset (as the human features might be used later)"
   ]
  },
  {
   "cell_type": "code",
   "execution_count": 5,
   "id": "7eae85d1",
   "metadata": {},
   "outputs": [],
   "source": [
    "# remove all the empty columns and columns with mostly NaN\n",
    "df_human = df_human.drop(columns=['Entry','Entry Name','Involvement in disease',\n",
    "       'Pharmaceutical use','Mutagenesis','Disruption phenotype','Biotechnological use',\n",
    "       'Allergenic Properties','Absorption','Kinetics','pH dependence','Redox potential',\n",
    "       'Temperature dependence','Peptide','Propeptide','Catalytic activity', 'Cofactor',\n",
    "       'DNA binding', 'EC number', 'Activity regulation', 'Function [CC]',\n",
    "       'Pathway', 'Rhea ID', 'Site', 'Binding site', 'Chain', 'Cross-link',\n",
    "       'Disulfide bond', 'Glycosylation', 'Modified residue', 'Lipidation',\n",
    "       'Initiator methionine', 'Post-translational modification',\n",
    "       'Signal peptide', 'Transit peptide', 'Topological domain','Transmembrane','Intramembrane'])\n",
    "df_rat = df_rat.drop(columns=['Entry','Entry Name','Involvement in disease',\n",
    "       'Pharmaceutical use','Mutagenesis','Disruption phenotype','Biotechnological use',\n",
    "       'Allergenic Properties','Absorption','Kinetics','pH dependence','Redox potential',\n",
    "       'Temperature dependence','Peptide','Propeptide','Catalytic activity', 'Cofactor',\n",
    "       'DNA binding', 'EC number', 'Activity regulation', 'Function [CC]',\n",
    "       'Pathway', 'Rhea ID', 'Site', 'Binding site', 'Chain', 'Cross-link',\n",
    "       'Disulfide bond', 'Glycosylation', 'Modified residue', 'Lipidation',\n",
    "       'Initiator methionine', 'Post-translational modification',\n",
    "       'Signal peptide', 'Transit peptide', 'Topological domain','Transmembrane','Intramembrane'])"
   ]
  },
  {
   "cell_type": "code",
   "execution_count": 6,
   "id": "c74261d5",
   "metadata": {},
   "outputs": [],
   "source": [
    "#df_human['Gene Ontology (biological process)'].value_counts(dropna=False)"
   ]
  },
  {
   "cell_type": "code",
   "execution_count": 7,
   "id": "669fe6d2",
   "metadata": {},
   "outputs": [],
   "source": [
    "# Decided to keep only the first part of the Gene Ontology columns (only the part before the first [GO])\n",
    "\n",
    "# A regex pattern that captures everything until the first '[GO:'\n",
    "\n",
    "df_human['Gene Ontology (biological process)'] = df_human['Gene Ontology (biological process)'].str.extract(r'^(.*?)(?=\\[GO:)')\n",
    "df_human['Gene Ontology (cellular component)'] = df_human['Gene Ontology (cellular component)'].str.extract(r'^(.*?)(?=\\[GO:)')\n",
    "df_human['Gene Ontology (GO)'] = df_human['Gene Ontology (GO)'].str.extract(r'^(.*?)(?=\\[GO:)')\n",
    "df_human['Gene Ontology (molecular function)'] = df_human['Gene Ontology (molecular function)'].str.extract(r'^(.*?)(?=\\[GO:)')"
   ]
  },
  {
   "cell_type": "code",
   "execution_count": 8,
   "id": "cf88835e",
   "metadata": {},
   "outputs": [],
   "source": [
    "df_rat['Gene Ontology (biological process)'] = df_rat['Gene Ontology (biological process)'].str.extract(r'^(.*?)(?=\\[GO:)')\n",
    "df_rat['Gene Ontology (cellular component)'] = df_rat['Gene Ontology (cellular component)'].str.extract(r'^(.*?)(?=\\[GO:)')\n",
    "df_rat['Gene Ontology (GO)'] = df_rat['Gene Ontology (GO)'].str.extract(r'^(.*?)(?=\\[GO:)')\n",
    "df_rat['Gene Ontology (molecular function)'] = df_rat['Gene Ontology (molecular function)'].str.extract(r'^(.*?)(?=\\[GO:)')"
   ]
  },
  {
   "cell_type": "code",
   "execution_count": 9,
   "id": "898021ac",
   "metadata": {},
   "outputs": [],
   "source": [
    "#df_human['Subcellular location [CC]'].value_counts(dropna=False)"
   ]
  },
  {
   "cell_type": "code",
   "execution_count": 10,
   "id": "299fba90",
   "metadata": {},
   "outputs": [],
   "source": [
    "# Decided to keep the subcelluar, could be used later for specifically predicting specific proteins\n",
    "\n",
    "# A regex pattern that captures everything between the SUBCELLULAR LOCATION:  and the first {ECO:\n",
    "\n",
    "df_human['Subcellular location [CC]'] = df_human['Subcellular location [CC]'].str.extract(r'(?<=SUBCELLULAR LOCATION: )(.*?)(?=\\s*{ECO:)')"
   ]
  },
  {
   "cell_type": "code",
   "execution_count": 11,
   "id": "4fc1901c",
   "metadata": {},
   "outputs": [],
   "source": [
    "df_rat['Subcellular location [CC]'] = df_rat['Subcellular location [CC]'].str.extract(r'(?<=SUBCELLULAR LOCATION: )(.*?)(?=\\s*{ECO:)')"
   ]
  },
  {
   "cell_type": "code",
   "execution_count": 12,
   "id": "f04a727e",
   "metadata": {},
   "outputs": [
    {
     "name": "stdout",
     "output_type": "stream",
     "text": [
      "Human Protein sequences over 500 length 23884\n",
      "Rat Protein sequences over 500 length 25999\n"
     ]
    }
   ],
   "source": [
    "print('Human Protein sequences over 500 length', len(df_human[df_human['Length']>500]))\n",
    "print('Rat Protein sequences over 500 length', len(df_rat[df_rat['Length']>500]))"
   ]
  },
  {
   "cell_type": "code",
   "execution_count": 13,
   "id": "0d13bfeb",
   "metadata": {},
   "outputs": [],
   "source": [
    "# Decided to drop all the sequences that are above 500 aa in length (currently for the ease of modelling)\n",
    "\n",
    "df_human = df_human[df_human['Length']<500]\n",
    "df_rat = df_rat[df_rat['Length']<500]"
   ]
  },
  {
   "cell_type": "code",
   "execution_count": 14,
   "id": "936596c1",
   "metadata": {},
   "outputs": [
    {
     "name": "stdout",
     "output_type": "stream",
     "text": [
      "(163564, 10)\n",
      "(58777, 10)\n"
     ]
    }
   ],
   "source": [
    "print(df_human.shape)\n",
    "print(df_rat.shape)"
   ]
  },
  {
   "cell_type": "code",
   "execution_count": 15,
   "id": "a36640ad",
   "metadata": {},
   "outputs": [
    {
     "data": {
      "text/plain": [
       "Protein names                         0.000000\n",
       "Gene Names                            0.201811\n",
       "Organism                              0.000000\n",
       "Length                                0.000000\n",
       "Sequence                              0.000000\n",
       "Gene Ontology (biological process)    0.650149\n",
       "Gene Ontology (cellular component)    0.573837\n",
       "Gene Ontology (GO)                    0.459288\n",
       "Gene Ontology (molecular function)    0.712730\n",
       "Subcellular location [CC]             0.787196\n",
       "dtype: float64"
      ]
     },
     "execution_count": 15,
     "metadata": {},
     "output_type": "execute_result"
    }
   ],
   "source": [
    "df_human.isna().sum()/len(df_human)"
   ]
  },
  {
   "cell_type": "code",
   "execution_count": 16,
   "id": "35add557",
   "metadata": {},
   "outputs": [
    {
     "data": {
      "text/plain": [
       "Protein names                         0.000000\n",
       "Gene Names                            0.009140\n",
       "Organism                              0.000000\n",
       "Length                                0.000000\n",
       "Sequence                              0.000000\n",
       "Gene Ontology (biological process)    0.243770\n",
       "Gene Ontology (cellular component)    0.229989\n",
       "Gene Ontology (GO)                    0.195978\n",
       "Gene Ontology (molecular function)    0.233401\n",
       "Subcellular location [CC]             0.258841\n",
       "dtype: float64"
      ]
     },
     "execution_count": 16,
     "metadata": {},
     "output_type": "execute_result"
    }
   ],
   "source": [
    "df_rat.isna().sum()/len(df_human)"
   ]
  },
  {
   "cell_type": "code",
   "execution_count": 17,
   "id": "12b3fc46",
   "metadata": {},
   "outputs": [],
   "source": [
    "# Fill all the NaN with unknown\n",
    "df_human = df_human.fillna('Unknown')\n",
    "df_rat = df_rat.fillna('Unknown')"
   ]
  },
  {
   "cell_type": "code",
   "execution_count": 18,
   "id": "7e829d6a",
   "metadata": {},
   "outputs": [
    {
     "data": {
      "text/html": [
       "<div>\n",
       "<style scoped>\n",
       "    .dataframe tbody tr th:only-of-type {\n",
       "        vertical-align: middle;\n",
       "    }\n",
       "\n",
       "    .dataframe tbody tr th {\n",
       "        vertical-align: top;\n",
       "    }\n",
       "\n",
       "    .dataframe thead th {\n",
       "        text-align: right;\n",
       "    }\n",
       "</style>\n",
       "<table border=\"1\" class=\"dataframe\">\n",
       "  <thead>\n",
       "    <tr style=\"text-align: right;\">\n",
       "      <th></th>\n",
       "      <th>count</th>\n",
       "      <th>mean</th>\n",
       "      <th>std</th>\n",
       "      <th>min</th>\n",
       "      <th>25%</th>\n",
       "      <th>50%</th>\n",
       "      <th>75%</th>\n",
       "      <th>max</th>\n",
       "    </tr>\n",
       "  </thead>\n",
       "  <tbody>\n",
       "    <tr>\n",
       "      <th>Length</th>\n",
       "      <td>163564.0</td>\n",
       "      <td>187.356111</td>\n",
       "      <td>113.216307</td>\n",
       "      <td>7.0</td>\n",
       "      <td>104.0</td>\n",
       "      <td>177.0</td>\n",
       "      <td>258.0</td>\n",
       "      <td>499.0</td>\n",
       "    </tr>\n",
       "  </tbody>\n",
       "</table>\n",
       "</div>"
      ],
      "text/plain": [
       "           count        mean         std  min    25%    50%    75%    max\n",
       "Length  163564.0  187.356111  113.216307  7.0  104.0  177.0  258.0  499.0"
      ]
     },
     "execution_count": 18,
     "metadata": {},
     "output_type": "execute_result"
    }
   ],
   "source": [
    "df_human.describe().T"
   ]
  },
  {
   "cell_type": "code",
   "execution_count": 19,
   "id": "75b8f926",
   "metadata": {},
   "outputs": [
    {
     "data": {
      "text/html": [
       "<div>\n",
       "<style scoped>\n",
       "    .dataframe tbody tr th:only-of-type {\n",
       "        vertical-align: middle;\n",
       "    }\n",
       "\n",
       "    .dataframe tbody tr th {\n",
       "        vertical-align: top;\n",
       "    }\n",
       "\n",
       "    .dataframe thead th {\n",
       "        text-align: right;\n",
       "    }\n",
       "</style>\n",
       "<table border=\"1\" class=\"dataframe\">\n",
       "  <thead>\n",
       "    <tr style=\"text-align: right;\">\n",
       "      <th></th>\n",
       "      <th>count</th>\n",
       "      <th>mean</th>\n",
       "      <th>std</th>\n",
       "      <th>min</th>\n",
       "      <th>25%</th>\n",
       "      <th>50%</th>\n",
       "      <th>75%</th>\n",
       "      <th>max</th>\n",
       "    </tr>\n",
       "  </thead>\n",
       "  <tbody>\n",
       "    <tr>\n",
       "      <th>Length</th>\n",
       "      <td>58777.0</td>\n",
       "      <td>228.405073</td>\n",
       "      <td>134.996033</td>\n",
       "      <td>1.0</td>\n",
       "      <td>110.0</td>\n",
       "      <td>217.0</td>\n",
       "      <td>334.0</td>\n",
       "      <td>499.0</td>\n",
       "    </tr>\n",
       "  </tbody>\n",
       "</table>\n",
       "</div>"
      ],
      "text/plain": [
       "          count        mean         std  min    25%    50%    75%    max\n",
       "Length  58777.0  228.405073  134.996033  1.0  110.0  217.0  334.0  499.0"
      ]
     },
     "execution_count": 19,
     "metadata": {},
     "output_type": "execute_result"
    }
   ],
   "source": [
    "df_rat.describe().T"
   ]
  },
  {
   "cell_type": "code",
   "execution_count": 20,
   "id": "e41484d7",
   "metadata": {},
   "outputs": [],
   "source": [
    "# Make new dfs with only the Sequence and Organism columns to start the model.\n",
    "\n",
    "df_human_seq = df_human[['Sequence','Organism']]\n",
    "df_rat_seq = df_rat[['Sequence','Organism']]"
   ]
  },
  {
   "cell_type": "code",
   "execution_count": 21,
   "id": "6ec7f497",
   "metadata": {},
   "outputs": [
    {
     "name": "stderr",
     "output_type": "stream",
     "text": [
      "/var/folders/q2/_chm3qg94gz5l7r736h39n040000gn/T/ipykernel_32952/118057391.py:3: SettingWithCopyWarning: \n",
      "A value is trying to be set on a copy of a slice from a DataFrame.\n",
      "Try using .loc[row_indexer,col_indexer] = value instead\n",
      "\n",
      "See the caveats in the documentation: https://pandas.pydata.org/pandas-docs/stable/user_guide/indexing.html#returning-a-view-versus-a-copy\n",
      "  df_human_seq['Organism'] = df_human_seq['Organism'].replace(['Homo sapiens (Human)'], 'Human').astype('object')\n",
      "/var/folders/q2/_chm3qg94gz5l7r736h39n040000gn/T/ipykernel_32952/118057391.py:4: SettingWithCopyWarning: \n",
      "A value is trying to be set on a copy of a slice from a DataFrame.\n",
      "Try using .loc[row_indexer,col_indexer] = value instead\n",
      "\n",
      "See the caveats in the documentation: https://pandas.pydata.org/pandas-docs/stable/user_guide/indexing.html#returning-a-view-versus-a-copy\n",
      "  df_rat_seq['Organism'] = df_rat_seq['Organism'].replace(['Rattus norvegicus (Rat)'], 'Rat').astype('object')\n"
     ]
    }
   ],
   "source": [
    "# To make it easier to read change the Organism to Human or Rat respectivelly\n",
    "\n",
    "df_human_seq['Organism'] = df_human_seq['Organism'].replace(['Homo sapiens (Human)'], 'Human').astype('object')\n",
    "df_rat_seq['Organism'] = df_rat_seq['Organism'].replace(['Rattus norvegicus (Rat)'], 'Rat').astype('object')"
   ]
  },
  {
   "cell_type": "code",
   "execution_count": 22,
   "id": "fdf84a66",
   "metadata": {},
   "outputs": [],
   "source": [
    "pd.set_option('display.max_colwidth', None)"
   ]
  },
  {
   "cell_type": "markdown",
   "id": "0b470454",
   "metadata": {},
   "source": [
    "### Concat both df by row to continue workin with the resulting df"
   ]
  },
  {
   "cell_type": "code",
   "execution_count": 23,
   "id": "10fa0acc",
   "metadata": {},
   "outputs": [],
   "source": [
    "df_seq = pd.concat((df_human_seq, df_rat_seq), axis = 0).reset_index(drop=True)"
   ]
  },
  {
   "cell_type": "code",
   "execution_count": 24,
   "id": "e4dde57a",
   "metadata": {},
   "outputs": [
    {
     "data": {
      "text/html": [
       "<div>\n",
       "<style scoped>\n",
       "    .dataframe tbody tr th:only-of-type {\n",
       "        vertical-align: middle;\n",
       "    }\n",
       "\n",
       "    .dataframe tbody tr th {\n",
       "        vertical-align: top;\n",
       "    }\n",
       "\n",
       "    .dataframe thead th {\n",
       "        text-align: right;\n",
       "    }\n",
       "</style>\n",
       "<table border=\"1\" class=\"dataframe\">\n",
       "  <thead>\n",
       "    <tr style=\"text-align: right;\">\n",
       "      <th></th>\n",
       "      <th>Sequence</th>\n",
       "      <th>Organism</th>\n",
       "    </tr>\n",
       "  </thead>\n",
       "  <tbody>\n",
       "    <tr>\n",
       "      <th>0</th>\n",
       "      <td>MAKDILGEAGLHFDELNKLRVLDPEVTQQTIELKEECKDFVDKIGQFQKIVGGLIELVDQLAKEAENEKMKAIGARNLLKSIAKQREAQQQQLQALIAEKKMQLERYRVEYEALCKVEAEQNEFIDQFIFQK</td>\n",
       "      <td>Human</td>\n",
       "    </tr>\n",
       "    <tr>\n",
       "      <th>1</th>\n",
       "      <td>MGGCAGSRRRFSDSEGEETVPEPRLPLLDHQGAHWKNAVGFWLLGLCNNFSYVVMLSAAHDILSHKRTSGNQSHVDPGPTPIPHNSSSRFDCNSVSTAAVLLADILPTLVIKLLAPLGLHLLPYSPRVLVSGICAAGSFVLVAFSHSVGTSLCGVVFASISSGLGEVTFLSLTAFYPRAVISWWSSGTGGAGLLGALSYLGLTQAGLSPQQTLLSMLGIPALLLASYFLLLTSPEAQDPGGEEEAESAARQPLIRTEAPESKPGSSSSLSLRERWTVFKGLLWYIVPLVVVYFAEYFINQGLFELLFFWNTSLSHAQQYRWYQMLYQAGVFASRSSLRCCRIRFTWALALLQCLNLVFLLADVWFGFLPSIYLVFLIILYEGLLGGAAYVNTFHNIALETSDEHREFAMAATCISDTLGISLSGLLALPLHDFLCQLS</td>\n",
       "      <td>Human</td>\n",
       "    </tr>\n",
       "    <tr>\n",
       "      <th>2</th>\n",
       "      <td>MSGGGPSGGGPGGSGRARTSSFAEPGGGGGGGGGGPGGSASGPGGTGGGKASVGAMGGGVGASSSGGGPGGSGGGGSGGPGAGTSFPPPGVKLGRDSGKVTTVVATLGQGPERSQEVAYTDIKVIGNGSFGVVYQARLAETRELVAIKKVLQDKRFKNRELQIMRKLDHCNIVRLRYFFYSSGEKKDELYLNLVLEYVPETVYRVARHFTKAKLTIPILYVKVYMYQLFRSLAYIHSQGVCHRDIKPQNLLVDPDTAVLKLCDFGSAKQLVRGEPNVSYICSRYYRAPELIFGATDYTSSIDVWSAGCVLAELLLGQPIFPGDSGVDQLVEIIKVLGTPTREQIREMNPNYTEFKFPQIKAHPWTKVFKSRTPPEAIALCSSLLEYTPSSRLSPLEACAHSFFDELRCLGTQLPNNRPLPPLFNFSAGELSIQPSLNAILIPPHLRSPAGTTTLTPSSQALTETPTSSDWQSTDATPTLTNSS</td>\n",
       "      <td>Human</td>\n",
       "    </tr>\n",
       "    <tr>\n",
       "      <th>3</th>\n",
       "      <td>MVRTKTWTLKKHFVGYPTNSDFELKTSELPPLKNGEVLLEALFLTVDPYMRVAAKRLKEGDTMMGQQVAKVVESKNVALPKGTIVLASPGWTTHSISDGKDLEKLLTEWPDTIPLSLALGTVGMPGLTAYFGLLEICGVKGGETVMVNAAAGAVGSVVGQIAKLKGCKVVGAVGSDEKVAYLQKLGFDVVFNYKTVESLEETLKKASPDGYDCYFDNVGGEFSNTVIGQMKKFGRIAICGAISTYNRTGPLPPGPPPEIVIYQELRMEAFVVYRWQGDARQKALKDLLKWVLEGKIQYKEYIIEGFENMPAAFMGMLKGDNLGKTIVKA</td>\n",
       "      <td>Human</td>\n",
       "    </tr>\n",
       "    <tr>\n",
       "      <th>4</th>\n",
       "      <td>MEGSKTSNNSTMQVSFVCQRCSQPLKLDTSFKILDRVTIQELTAPLLTTAQAKPGETQEEETNSGEEPFIETPRQDGVSRRFIPPARMMSTESANSFTLIGEASDGGTMENLSRRLKVTGDLFDIMSGQTDVDHPLCEECTDTLLDQLDTQLNVTENECQNYKRCLEILEQMNEDDSEQLQMELKELALEEERLIQELEDVEKNRKIVAENLEKVQAEAERLDQEEAQYQREYSEFKRQQLELDDELKSVENQMRYAQTQLDKLKKTNVFNATFHIWHSGQFGTINNFRLGRLPSVPVEWNEINAAWGQTVLLLHALANKMGLKFQRYRLVPYGNHSYLESLTDKSKELPLYCSGGLRFFWDNKFDHAMVAFLDCVQQFKEEVEKGETRFCLPYRMDVEKGKIEDTGGSGGSYSIKTQFNSEEQWTKALKFMLTNLKWGLAWVSSQFYNK</td>\n",
       "      <td>Human</td>\n",
       "    </tr>\n",
       "    <tr>\n",
       "      <th>...</th>\n",
       "      <td>...</td>\n",
       "      <td>...</td>\n",
       "    </tr>\n",
       "    <tr>\n",
       "      <th>222336</th>\n",
       "      <td>FVCSYSAAPEEKNGFKPAQEHLDSKARRAHVDPSVERYG</td>\n",
       "      <td>Rat</td>\n",
       "    </tr>\n",
       "    <tr>\n",
       "      <th>222337</th>\n",
       "      <td>FVCSYSAAPEEKNGFKPAQEHLDSKARRAHEDLSSSQVGYSEDKQLTESDVIDTTTSREDTSPAYGCKHAAILNSKNTKKVLEVPVKTSQEEEPAASQSQQVSCGEELASERTKIPSASLVQLSKESLFLLDASKEGNVGRFLNHSCYPNLWVQNVFVETHDRNFPLAAFFTNRFLSGYREDGEEDMCPLP</td>\n",
       "      <td>Rat</td>\n",
       "    </tr>\n",
       "    <tr>\n",
       "      <th>222338</th>\n",
       "      <td>FVCSYSAAPEEKNGFKPAQEHLDSKARRAHEDLSSSQVGYSEDKQLTESDVIDTTTSREDTSPAYGCKHAAILNSKNTKKVLEVPVKTSQEEEPAASQSQQVSCGEELASERTKIPSASLVQLSKESLFLLDASKEGNVGRFLNLLPKSLGAERVCRNP</td>\n",
       "      <td>Rat</td>\n",
       "    </tr>\n",
       "    <tr>\n",
       "      <th>222339</th>\n",
       "      <td>CPGKDSDIISTVEFNHTGELLATGDKGGRVVIFQREQEVFTEAQTPAVVLGSVLQVLKFNLPSLQSKNQVHRRGEYNVYSTFQSHEPEFDYLKSLEIEEKINKIRWLPQQNAAYFLLSTNDKTVKLWKVSERDKRPEGYNLKDEEGRLRDPATITTLRVPVLRPMDLMVEATPRRVFANAHTYHINSISVNSDYETYMSADDLRINLWNFEITNQSFNIVDIKPANMEELTEVITAAEFHPHHCNTFVYSSSKGTIRLCDMRASALCDRHTKFFEEPEDPSNRSFFSEIISSISDVKFSHSGRYIMTRDYLTAKVWDLNMENRPVETYQVHDYLRSKLCSLYENDCIFDKFECVWNGSDSVIMTGSYNNFFRMFDRNTKRDVTLEASRENSKPRAILKPRKVCVGGKRRKDEISVDSLDFSKKILHTAWHPSENIIAVAATNNLYIFQDKVN</td>\n",
       "      <td>Rat</td>\n",
       "    </tr>\n",
       "    <tr>\n",
       "      <th>222340</th>\n",
       "      <td>MCKTLCGTLLLLAIFVLFLNFNHATAKSTMGGIEMFARNFMEKNKLNDVYDVFKYLYNKYSDDPYLSNIKNQSFTMITWGFGEIEVVKTKCRKIDSDFYKCSFQWEFCNIKRTPGVTIYYITLPGSVRCRKLLSKLVNCPFEEQTEQLKREICYFQLYPDYIEQNIRSVRFNCYTK</td>\n",
       "      <td>Rat</td>\n",
       "    </tr>\n",
       "  </tbody>\n",
       "</table>\n",
       "<p>222341 rows × 2 columns</p>\n",
       "</div>"
      ],
      "text/plain": [
       "                                                                                                                                                                                                                                                                                                                                                                                                                                                                                                   Sequence  \\\n",
       "0                                                                                                                                                                                                                                                                                                                                                                      MAKDILGEAGLHFDELNKLRVLDPEVTQQTIELKEECKDFVDKIGQFQKIVGGLIELVDQLAKEAENEKMKAIGARNLLKSIAKQREAQQQQLQALIAEKKMQLERYRVEYEALCKVEAEQNEFIDQFIFQK   \n",
       "1                                                    MGGCAGSRRRFSDSEGEETVPEPRLPLLDHQGAHWKNAVGFWLLGLCNNFSYVVMLSAAHDILSHKRTSGNQSHVDPGPTPIPHNSSSRFDCNSVSTAAVLLADILPTLVIKLLAPLGLHLLPYSPRVLVSGICAAGSFVLVAFSHSVGTSLCGVVFASISSGLGEVTFLSLTAFYPRAVISWWSSGTGGAGLLGALSYLGLTQAGLSPQQTLLSMLGIPALLLASYFLLLTSPEAQDPGGEEEAESAARQPLIRTEAPESKPGSSSSLSLRERWTVFKGLLWYIVPLVVVYFAEYFINQGLFELLFFWNTSLSHAQQYRWYQMLYQAGVFASRSSLRCCRIRFTWALALLQCLNLVFLLADVWFGFLPSIYLVFLIILYEGLLGGAAYVNTFHNIALETSDEHREFAMAATCISDTLGISLSGLLALPLHDFLCQLS   \n",
       "2       MSGGGPSGGGPGGSGRARTSSFAEPGGGGGGGGGGPGGSASGPGGTGGGKASVGAMGGGVGASSSGGGPGGSGGGGSGGPGAGTSFPPPGVKLGRDSGKVTTVVATLGQGPERSQEVAYTDIKVIGNGSFGVVYQARLAETRELVAIKKVLQDKRFKNRELQIMRKLDHCNIVRLRYFFYSSGEKKDELYLNLVLEYVPETVYRVARHFTKAKLTIPILYVKVYMYQLFRSLAYIHSQGVCHRDIKPQNLLVDPDTAVLKLCDFGSAKQLVRGEPNVSYICSRYYRAPELIFGATDYTSSIDVWSAGCVLAELLLGQPIFPGDSGVDQLVEIIKVLGTPTREQIREMNPNYTEFKFPQIKAHPWTKVFKSRTPPEAIALCSSLLEYTPSSRLSPLEACAHSFFDELRCLGTQLPNNRPLPPLFNFSAGELSIQPSLNAILIPPHLRSPAGTTTLTPSSQALTETPTSSDWQSTDATPTLTNSS   \n",
       "3                                                                                                                                                                 MVRTKTWTLKKHFVGYPTNSDFELKTSELPPLKNGEVLLEALFLTVDPYMRVAAKRLKEGDTMMGQQVAKVVESKNVALPKGTIVLASPGWTTHSISDGKDLEKLLTEWPDTIPLSLALGTVGMPGLTAYFGLLEICGVKGGETVMVNAAAGAVGSVVGQIAKLKGCKVVGAVGSDEKVAYLQKLGFDVVFNYKTVESLEETLKKASPDGYDCYFDNVGGEFSNTVIGQMKKFGRIAICGAISTYNRTGPLPPGPPPEIVIYQELRMEAFVVYRWQGDARQKALKDLLKWVLEGKIQYKEYIIEGFENMPAAFMGMLKGDNLGKTIVKA   \n",
       "4                                        MEGSKTSNNSTMQVSFVCQRCSQPLKLDTSFKILDRVTIQELTAPLLTTAQAKPGETQEEETNSGEEPFIETPRQDGVSRRFIPPARMMSTESANSFTLIGEASDGGTMENLSRRLKVTGDLFDIMSGQTDVDHPLCEECTDTLLDQLDTQLNVTENECQNYKRCLEILEQMNEDDSEQLQMELKELALEEERLIQELEDVEKNRKIVAENLEKVQAEAERLDQEEAQYQREYSEFKRQQLELDDELKSVENQMRYAQTQLDKLKKTNVFNATFHIWHSGQFGTINNFRLGRLPSVPVEWNEINAAWGQTVLLLHALANKMGLKFQRYRLVPYGNHSYLESLTDKSKELPLYCSGGLRFFWDNKFDHAMVAFLDCVQQFKEEVEKGETRFCLPYRMDVEKGKIEDTGGSGGSYSIKTQFNSEEQWTKALKFMLTNLKWGLAWVSSQFYNK   \n",
       "...                                                                                                                                                                                                                                                                                                                                                                                                                                                                                                     ...   \n",
       "222336                                                                                                                                                                                                                                                                                                                                                                                                                                                              FVCSYSAAPEEKNGFKPAQEHLDSKARRAHVDPSVERYG   \n",
       "222337                                                                                                                                                                                                                                                                                                      FVCSYSAAPEEKNGFKPAQEHLDSKARRAHEDLSSSQVGYSEDKQLTESDVIDTTTSREDTSPAYGCKHAAILNSKNTKKVLEVPVKTSQEEEPAASQSQQVSCGEELASERTKIPSASLVQLSKESLFLLDASKEGNVGRFLNHSCYPNLWVQNVFVETHDRNFPLAAFFTNRFLSGYREDGEEDMCPLP   \n",
       "222338                                                                                                                                                                                                                                                                                                                                      FVCSYSAAPEEKNGFKPAQEHLDSKARRAHEDLSSSQVGYSEDKQLTESDVIDTTTSREDTSPAYGCKHAAILNSKNTKKVLEVPVKTSQEEEPAASQSQQVSCGEELASERTKIPSASLVQLSKESLFLLDASKEGNVGRFLNLLPKSLGAERVCRNP   \n",
       "222339                                 CPGKDSDIISTVEFNHTGELLATGDKGGRVVIFQREQEVFTEAQTPAVVLGSVLQVLKFNLPSLQSKNQVHRRGEYNVYSTFQSHEPEFDYLKSLEIEEKINKIRWLPQQNAAYFLLSTNDKTVKLWKVSERDKRPEGYNLKDEEGRLRDPATITTLRVPVLRPMDLMVEATPRRVFANAHTYHINSISVNSDYETYMSADDLRINLWNFEITNQSFNIVDIKPANMEELTEVITAAEFHPHHCNTFVYSSSKGTIRLCDMRASALCDRHTKFFEEPEDPSNRSFFSEIISSISDVKFSHSGRYIMTRDYLTAKVWDLNMENRPVETYQVHDYLRSKLCSLYENDCIFDKFECVWNGSDSVIMTGSYNNFFRMFDRNTKRDVTLEASRENSKPRAILKPRKVCVGGKRRKDEISVDSLDFSKKILHTAWHPSENIIAVAATNNLYIFQDKVN   \n",
       "222340                                                                                                                                                                                                                                                                                                                     MCKTLCGTLLLLAIFVLFLNFNHATAKSTMGGIEMFARNFMEKNKLNDVYDVFKYLYNKYSDDPYLSNIKNQSFTMITWGFGEIEVVKTKCRKIDSDFYKCSFQWEFCNIKRTPGVTIYYITLPGSVRCRKLLSKLVNCPFEEQTEQLKREICYFQLYPDYIEQNIRSVRFNCYTK   \n",
       "\n",
       "       Organism  \n",
       "0         Human  \n",
       "1         Human  \n",
       "2         Human  \n",
       "3         Human  \n",
       "4         Human  \n",
       "...         ...  \n",
       "222336      Rat  \n",
       "222337      Rat  \n",
       "222338      Rat  \n",
       "222339      Rat  \n",
       "222340      Rat  \n",
       "\n",
       "[222341 rows x 2 columns]"
      ]
     },
     "execution_count": 24,
     "metadata": {},
     "output_type": "execute_result"
    }
   ],
   "source": [
    "df_seq"
   ]
  },
  {
   "cell_type": "markdown",
   "id": "dc756dc8",
   "metadata": {},
   "source": [
    "## Tokenize the Protein Sequence"
   ]
  },
  {
   "cell_type": "code",
   "execution_count": 25,
   "id": "b695d4cf",
   "metadata": {},
   "outputs": [],
   "source": [
    "df_seq['Token_Sequence'] = df_seq['Sequence'].apply(list)"
   ]
  },
  {
   "cell_type": "code",
   "execution_count": 26,
   "id": "b365b44a",
   "metadata": {},
   "outputs": [
    {
     "data": {
      "text/html": [
       "<div>\n",
       "<style scoped>\n",
       "    .dataframe tbody tr th:only-of-type {\n",
       "        vertical-align: middle;\n",
       "    }\n",
       "\n",
       "    .dataframe tbody tr th {\n",
       "        vertical-align: top;\n",
       "    }\n",
       "\n",
       "    .dataframe thead th {\n",
       "        text-align: right;\n",
       "    }\n",
       "</style>\n",
       "<table border=\"1\" class=\"dataframe\">\n",
       "  <thead>\n",
       "    <tr style=\"text-align: right;\">\n",
       "      <th></th>\n",
       "      <th>Sequence</th>\n",
       "      <th>Organism</th>\n",
       "      <th>Token_Sequence</th>\n",
       "    </tr>\n",
       "  </thead>\n",
       "  <tbody>\n",
       "    <tr>\n",
       "      <th>0</th>\n",
       "      <td>MAKDILGEAGLHFDELNKLRVLDPEVTQQTIELKEECKDFVDKIGQFQKIVGGLIELVDQLAKEAENEKMKAIGARNLLKSIAKQREAQQQQLQALIAEKKMQLERYRVEYEALCKVEAEQNEFIDQFIFQK</td>\n",
       "      <td>Human</td>\n",
       "      <td>[M, A, K, D, I, L, G, E, A, G, L, H, F, D, E, L, N, K, L, R, V, L, D, P, E, V, T, Q, Q, T, I, E, L, K, E, E, C, K, D, F, V, D, K, I, G, Q, F, Q, K, I, V, G, G, L, I, E, L, V, D, Q, L, A, K, E, A, E, N, E, K, M, K, A, I, G, A, R, N, L, L, K, S, I, A, K, Q, R, E, A, Q, Q, Q, Q, L, Q, A, L, I, A, E, K, ...]</td>\n",
       "    </tr>\n",
       "  </tbody>\n",
       "</table>\n",
       "</div>"
      ],
      "text/plain": [
       "                                                                                                                               Sequence  \\\n",
       "0  MAKDILGEAGLHFDELNKLRVLDPEVTQQTIELKEECKDFVDKIGQFQKIVGGLIELVDQLAKEAENEKMKAIGARNLLKSIAKQREAQQQQLQALIAEKKMQLERYRVEYEALCKVEAEQNEFIDQFIFQK   \n",
       "\n",
       "  Organism  \\\n",
       "0    Human   \n",
       "\n",
       "                                                                                                                                                                                                                                                                                                      Token_Sequence  \n",
       "0  [M, A, K, D, I, L, G, E, A, G, L, H, F, D, E, L, N, K, L, R, V, L, D, P, E, V, T, Q, Q, T, I, E, L, K, E, E, C, K, D, F, V, D, K, I, G, Q, F, Q, K, I, V, G, G, L, I, E, L, V, D, Q, L, A, K, E, A, E, N, E, K, M, K, A, I, G, A, R, N, L, L, K, S, I, A, K, Q, R, E, A, Q, Q, Q, Q, L, Q, A, L, I, A, E, K, ...]  "
      ]
     },
     "execution_count": 26,
     "metadata": {},
     "output_type": "execute_result"
    }
   ],
   "source": [
    "df_seq.head(1)"
   ]
  },
  {
   "cell_type": "code",
   "execution_count": 27,
   "id": "1046806e",
   "metadata": {},
   "outputs": [
    {
     "name": "stderr",
     "output_type": "stream",
     "text": [
      "2023-09-26 02:16:20.958364: I tensorflow/core/platform/cpu_feature_guard.cc:182] This TensorFlow binary is optimized to use available CPU instructions in performance-critical operations.\n",
      "To enable the following instructions: AVX2 AVX512F AVX512_VNNI FMA, in other operations, rebuild TensorFlow with the appropriate compiler flags.\n"
     ]
    }
   ],
   "source": [
    "import tensorflow as tf\n",
    "from tensorflow.keras.preprocessing.text import Tokenizer\n",
    "from tensorflow.keras.models import Sequential\n",
    "from tensorflow.keras.layers import Embedding, LSTM, GlobalMaxPooling1D, Dense\n",
    "from sklearn.model_selection import train_test_split\n",
    "from tensorflow.keras.preprocessing.sequence import pad_sequences"
   ]
  },
  {
   "cell_type": "markdown",
   "id": "000f10af",
   "metadata": {},
   "source": [
    "## RNN Model (LSTM) Classifier\n",
    "Predict wether a protein sequence is human or rat protein"
   ]
  },
  {
   "cell_type": "code",
   "execution_count": 28,
   "id": "f5736f7d",
   "metadata": {},
   "outputs": [],
   "source": [
    "# Convert sequences to integer tokens\n",
    "\n",
    "tokenizer = tf.keras.preprocessing.text.Tokenizer(char_level=True)\n",
    "tokenizer.fit_on_texts(df_seq['Token_Sequence'].apply(lambda x: ''.join(x)))\n",
    "X = tokenizer.texts_to_sequences(df_seq['Token_Sequence'].apply(lambda x: ''.join(x)))"
   ]
  },
  {
   "cell_type": "code",
   "execution_count": 29,
   "id": "6bf7f84a",
   "metadata": {},
   "outputs": [],
   "source": [
    "# Pad the sequences to have the same length\n",
    "X = pad_sequences(X, padding='post')"
   ]
  },
  {
   "cell_type": "code",
   "execution_count": 30,
   "id": "eeb66ff5",
   "metadata": {},
   "outputs": [],
   "source": [
    "# Convert 'Human' and 'Rat' to integers\n",
    "\n",
    "y = df_seq['Organism'].map({'Human': 0, 'Rat': 1}).values"
   ]
  },
  {
   "cell_type": "code",
   "execution_count": 31,
   "id": "4b63344b",
   "metadata": {},
   "outputs": [],
   "source": [
    "X_train, X_test, y_train, y_test = train_test_split(X, y, test_size=0.2, random_state=42)"
   ]
  },
  {
   "cell_type": "code",
   "execution_count": 32,
   "id": "6b6d55c1",
   "metadata": {},
   "outputs": [],
   "source": [
    "model = Sequential()\n",
    "model.add(Embedding(input_dim=len(tokenizer.word_index) + 1, output_dim=10))\n",
    "model.add(LSTM(50, return_sequences=True))\n",
    "model.add(GlobalMaxPooling1D())\n",
    "model.add(Dense(1, activation='sigmoid'))"
   ]
  },
  {
   "cell_type": "code",
   "execution_count": 33,
   "id": "f7c071b4",
   "metadata": {},
   "outputs": [],
   "source": [
    "model.compile(optimizer='adam', loss='binary_crossentropy', metrics=['accuracy'])"
   ]
  },
  {
   "cell_type": "code",
   "execution_count": 34,
   "id": "4b6cc1c4",
   "metadata": {},
   "outputs": [
    {
     "name": "stdout",
     "output_type": "stream",
     "text": [
      "Epoch 1/10\n",
      "5559/5559 [==============================] - 1048s 188ms/step - loss: 0.4709 - accuracy: 0.7344 - val_loss: 0.4592 - val_accuracy: 0.7363\n",
      "Epoch 2/10\n",
      "5559/5559 [==============================] - 1017s 183ms/step - loss: 0.4454 - accuracy: 0.7407 - val_loss: 0.4444 - val_accuracy: 0.7448\n",
      "Epoch 3/10\n",
      "5559/5559 [==============================] - 1017s 183ms/step - loss: 0.4356 - accuracy: 0.7484 - val_loss: 0.4335 - val_accuracy: 0.7505\n",
      "Epoch 4/10\n",
      "5559/5559 [==============================] - 1016s 183ms/step - loss: 0.4279 - accuracy: 0.7535 - val_loss: 0.4315 - val_accuracy: 0.7503\n",
      "Epoch 5/10\n",
      "5559/5559 [==============================] - 1027s 185ms/step - loss: 0.4220 - accuracy: 0.7585 - val_loss: 0.4258 - val_accuracy: 0.7556\n",
      "Epoch 6/10\n",
      "5559/5559 [==============================] - 1026s 185ms/step - loss: 0.4187 - accuracy: 0.7594 - val_loss: 0.4250 - val_accuracy: 0.7560\n",
      "Epoch 7/10\n",
      "5559/5559 [==============================] - 1022s 184ms/step - loss: 0.4149 - accuracy: 0.7634 - val_loss: 0.4195 - val_accuracy: 0.7588\n",
      "Epoch 8/10\n",
      "5559/5559 [==============================] - 1047s 188ms/step - loss: 0.4116 - accuracy: 0.7668 - val_loss: 0.4233 - val_accuracy: 0.7507\n",
      "Epoch 9/10\n",
      "5559/5559 [==============================] - 1015s 183ms/step - loss: 0.4076 - accuracy: 0.7688 - val_loss: 0.4147 - val_accuracy: 0.7615\n",
      "Epoch 10/10\n",
      "5559/5559 [==============================] - 1014s 182ms/step - loss: 0.4044 - accuracy: 0.7728 - val_loss: 0.4142 - val_accuracy: 0.7615\n"
     ]
    },
    {
     "data": {
      "text/plain": [
       "<keras.src.callbacks.History at 0x1462e80d0>"
      ]
     },
     "execution_count": 34,
     "metadata": {},
     "output_type": "execute_result"
    }
   ],
   "source": [
    "model.fit(X_train, y_train, validation_data=(X_test, y_test), epochs=10)"
   ]
  },
  {
   "cell_type": "code",
   "execution_count": 35,
   "id": "8e5786c8",
   "metadata": {},
   "outputs": [
    {
     "name": "stdout",
     "output_type": "stream",
     "text": [
      "1390/1390 [==============================] - 62s 44ms/step - loss: 0.4142 - accuracy: 0.7615\n",
      "Test Loss: 0.4142\n",
      "Test Accuracy: 0.7615\n"
     ]
    }
   ],
   "source": [
    "# Evaluate the model on the test set\n",
    "loss, accuracy = model.evaluate(X_test, y_test)\n",
    "print(f\"Test Loss: {loss:.4f}\")\n",
    "print(f\"Test Accuracy: {accuracy:.4f}\")"
   ]
  },
  {
   "cell_type": "code",
   "execution_count": 36,
   "id": "e2091fa5",
   "metadata": {},
   "outputs": [
    {
     "name": "stdout",
     "output_type": "stream",
     "text": [
      "1390/1390 [==============================] - 61s 43ms/step\n",
      "       Actual  Predicted\n",
      "0           0          0\n",
      "1           1          1\n",
      "2           0          0\n",
      "3           0          0\n",
      "4           0          0\n",
      "...       ...        ...\n",
      "44464       0          0\n",
      "44465       0          0\n",
      "44466       1          0\n",
      "44467       1          0\n",
      "44468       0          0\n",
      "\n",
      "[44469 rows x 2 columns]\n"
     ]
    }
   ],
   "source": [
    "# Get the predictions for the test set\n",
    "predictions = model.predict(X_test)\n",
    "\n",
    "# Convert predictions to binary labels\n",
    "predicted_labels = [1 if p >= 0.5 else 0 for p in predictions]\n",
    "\n",
    "# Compare predicted labels with the actual labels\n",
    "comparison = pd.DataFrame({'Actual': y_test, 'Predicted': predicted_labels})\n",
    "print(comparison)"
   ]
  },
  {
   "cell_type": "code",
   "execution_count": 37,
   "id": "93ecefc9",
   "metadata": {},
   "outputs": [
    {
     "data": {
      "image/png": "[encoded data removed]",
      "text/plain": [
       "<Figure size 300x300 with 2 Axes>"
      ]
     },
     "metadata": {},
     "output_type": "display_data"
    }
   ],
   "source": [
    "import seaborn as sns\n",
    "import matplotlib.pyplot as plt\n",
    "from sklearn.metrics import confusion_matrix\n",
    "\n",
    "matrix = confusion_matrix(y_test, predicted_labels)\n",
    "\n",
    "plt.figure(figsize=(3,3))\n",
    "sns.heatmap(matrix, annot=True, fmt=\"d\", cmap=\"Blues\")\n",
    "plt.xlabel('Predicted')\n",
    "plt.ylabel('True')\n",
    "plt.show()"
   ]
  },
  {
   "cell_type": "markdown",
   "id": "bb128057",
   "metadata": {},
   "source": [
    "## RNN Model (LSTM)\n",
    "Predict new protein sequences not seen in the data"
   ]
  },
  {
   "cell_type": "code",
   "execution_count": 38,
   "id": "97207f19",
   "metadata": {},
   "outputs": [],
   "source": [
    "from tensorflow.keras.preprocessing.sequence import pad_sequences\n",
    "from tensorflow.keras.utils import to_categorical"
   ]
  },
  {
   "cell_type": "code",
   "execution_count": null,
   "id": "d2721765",
   "metadata": {},
   "outputs": [],
   "source": [
    "\n",
    "tokenizer = tf.keras.preprocessing.text.Tokenizer(char_level=True)\n",
    "tokenizer.fit_on_texts(df_seq['Token_Sequence'].apply(lambda x: ''.join(x)))\n",
    "total_words = len(tokenizer.word_index) + 1\n",
    "\n",
    "# Create input sequences\n",
    "input_sequences = []\n",
    "for sequence in df_seq['Token_Sequence']:\n",
    "    token_sequence = tokenizer.texts_to_sequences([sequence])[0]\n",
    "    for i in range(1, len(token_sequence)):\n",
    "        n_gram_sequence = token_sequence[:i+1]\n",
    "        input_sequences.append(n_gram_sequence)\n",
    "\n",
    "# Pad sequences and split input and output\n",
    "input_sequences = pad_sequences(input_sequences)\n",
    "X, y = input_sequences[:,:-1],input_sequences[:,-1]\n",
    "y = to_categorical(y, num_classes=total_words)\n"
   ]
  },
  {
   "cell_type": "code",
   "execution_count": null,
   "id": "ef3f2c02",
   "metadata": {},
   "outputs": [],
   "source": [
    "model = Sequential()\n",
    "model.add(Embedding(input_dim=total_words, output_dim=50, input_length=X.shape[1]))\n",
    "model.add(LSTM(100, return_sequences=True))\n",
    "model.add(LSTM(100))\n",
    "model.add(Dense(total_words, activation='softmax'))\n",
    "\n",
    "model.compile(optimizer='adam', loss='categorical_crossentropy', metrics=['accuracy'])\n",
    "model.fit(X, y, epochs=10, verbose=1)\n"
   ]
  },
  {
   "cell_type": "code",
   "execution_count": null,
   "id": "d7f13d38",
   "metadata": {},
   "outputs": [],
   "source": [
    "def generate_sequence(model, tokenizer, init_seq, max_length):\n",
    "    new_sequence = init_seq\n",
    "    for _ in range(max_length):\n",
    "        token_sequence = tokenizer.texts_to_sequences([new_sequence])[0]\n",
    "        token_sequence = pad_sequences([token_sequence], maxlen=X.shape[1], padding='pre')\n",
    "        predicted_token = np.argmax(model.predict(token_sequence), axis=-1)\n",
    "        predicted_amino_acid = tokenizer.index_word[predicted_token[0]]\n",
    "        new_sequence += predicted_amino_acid\n",
    "    return new_sequence\n",
    "\n",
    "# Generate a new sequence of length 50 starting with the sequence 'MKT'\n",
    "print(generate_sequence(model, tokenizer, \"MKT\", 50))\n"
   ]
  },
  {
   "cell_type": "code",
   "execution_count": null,
   "id": "8a9cd030",
   "metadata": {},
   "outputs": [],
   "source": []
  }
 ],
 "metadata": {
  "kernelspec": {
   "display_name": "Python 3 (ipykernel)",
   "language": "python",
   "name": "python3"
  },
  "language_info": {
   "codemirror_mode": {
    "name": "ipython",
    "version": 3
   },
   "file_extension": ".py",
   "mimetype": "text/x-python",
   "name": "python",
   "nbconvert_exporter": "python",
   "pygments_lexer": "ipython3",
   "version": "3.11.3"
  }
 },
 "nbformat": 4,
 "nbformat_minor": 5
}
